{
  "cells": [
    {
      "cell_type": "markdown",
      "metadata": {
        "id": "WpYK9fIlyZCq"
      },
      "source": [
        "# Lab Deep Learning / Multi-Layer Perceptron for classification / in pytorch\n",
        "\n",
        "**Author: geoffroy.peeters@telecom-paris.fr**\n",
        "\n",
        "For any remark or suggestion, please feel free to contact me.\n",
        "\n",
        "Last edit: 2020/04/27 peeters\n",
        "\n",
        "Read the \"introduction to pytorch\" slides first: https://perso.telecom-paristech.fr/gpeeters/doc/pytorch/\n",
        "\n",
        "**Is is recommended that you first perform the ```Lab Deep Learning / Multi-Layer Perceptron for regression / in pytorch``` Lab to understand how to write a Neural Network in pytorch.**\n",
        "\n",
        "\n",
        "## Objective:\n",
        "\n",
        "The objective of this lab is to develop a two hidden layers MLP to perform image **classification**.\n",
        "\n",
        "While the previous Lab ```Lab Deep Learning / Multi-Layer Perceptron for regression / in pytorch``` focused on how to write a Neural Network, the present Lab focuses on managing datasets and splitting training and testing .\n",
        "\n",
        "We will use MNIST for the image dataset.\n",
        "\n",
        "## Your task:\n",
        "\n",
        "You need to add the missing parts in the code (parts between ```# --- START CODE HERE``` and ```# --- END CODE HERE```)\n",
        "\n",
        "## Documentation:\n",
        "- NN: https://pytorch.org/docs/stable/nn.html\n",
        "- Autograd: https://pytorch.org/docs/stable/autograd.html\n",
        "- Optim: https://pytorch.org/docs/stable/optim.html\n"
      ]
    },
    {
      "cell_type": "code",
      "execution_count": 1,
      "metadata": {
        "id": "h6o3NZfNyZCt"
      },
      "outputs": [],
      "source": [
        "import torch\n",
        "import torch.nn as nn\n",
        "import torch.nn.functional as F\n",
        "import torch.optim as optim\n",
        "from torchvision import datasets, transforms\n",
        "import matplotlib.pyplot as plt"
      ]
    },
    {
      "cell_type": "markdown",
      "metadata": {
        "id": "Vy7u-IVkyZCu"
      },
      "source": [
        "## Data management\n",
        "\n",
        "It is common to separate the datasets into\n",
        "- a **training** part (used to find the network parameters which minimize the loss)\n",
        "- a **test part** (used to estimate the performances).\n",
        "\n",
        "The training part can itself be further splitted into a training and a validation part (the validation part is then used to fix the hyper-parameters of the system).\n",
        "\n",
        "When performing ```batch gradient descent``` the whole training set is used to compute the gradients (which itself is used for the parameter optimization).\n",
        "However when performing ```stochastic or mini-batch gradient descent``` only a part of the training data is used at each iteration.\n",
        "\n",
        "We therefore needs to write all the necessary code, to get these mini-batches of data, be sure that all data have been seen, potentially randomize the order of appearance of these data and potentially perform some modifications of the data before giving them to the network.\n",
        "\n",
        "Fortunatelly, pytorch has associated to it (but not included in it) a nice package (```torchvision```) which allows to do all that for us.\n",
        "\n",
        "This package allows to perform these process for any datasets but has a pre-tuned method for the ```MNIST```datasets.\n",
        "\n",
        "### Datasets\n",
        "\n",
        "In the following we will us ```datasets.MNIST``` to load the train and test data.\n",
        "\n",
        "We need to tell it to download the data, where to dowload them and if we want the training or the testing part of it.\n",
        "\n",
        "We then tell it if we want to apply some transformations to the data.\n",
        "\n",
        "For this lab, we will transform the data by\n",
        "- 1) transforming them to torch tensors (using ```transforms.ToTensor()```); since by default they are not torch tensors\n",
        "- 2) normalize them to zero mean and unit standard deviation (using ```transforms.Normalize()```).\n",
        "\n",
        "It is of course possible to also apply data augmentation.\n",
        "\n",
        "Since we have several transforms to be performed, we will compose them using ```transforms.Compose([transform1, transform2])```\n",
        "\n",
        "The corresponding datasets is a class which contains the pairs of [input tensors $X$, corresponding ground-truth label $y$].\n",
        "\n",
        "### Dataloader\n",
        "\n",
        "Another nice pytorch facility is the ```Dataloader``` which transforms the dataset to be used as an iterator (i.e. within ```for data in myDataloader: ```).\n",
        "\n",
        "Moreover, ```Dataloader``` allows to specify\n",
        "- how many data will be provided each time it is called (```batch_size```)\n",
        "- if the order of appearance of the data with be random (````shuffle````).\n",
        "\n",
        "We therefore convert our datasets (train and test) to ```DataLoader``` that are directly used as iterator during the iterations (it DataLoader manage directly the mini-batch and shuffling)."
      ]
    },
    {
      "cell_type": "code",
      "execution_count": 2,
      "metadata": {
        "id": "zsSEvakPyZCv"
      },
      "outputs": [],
      "source": [
        "# --- START CODE HERE\n",
        "train_set = datasets.MNIST('data', train=True, download=True, transform=transforms.Compose([transforms.ToTensor(), transforms.Normalize(0,1)]))\n",
        "train_loader = torch.utils.data.DataLoader(train_set, batch_size=32, shuffle=True)\n",
        "test_set = datasets.MNIST('data', train=False, download=True, transform=transforms.Compose([transforms.ToTensor(), transforms.Normalize(0,1)]))\n",
        "test_loader = torch.utils.data.DataLoader(test_set, batch_size=32, shuffle=True)\n",
        "# --- END CODE HERE"
      ]
    },
    {
      "cell_type": "code",
      "execution_count": 3,
      "metadata": {
        "colab": {
          "base_uri": "https://localhost:8080/",
          "height": 240
        },
        "id": "FFuEXr0tyZCw",
        "outputId": "59ad5329-e7b3-4dd3-f0f7-79bbbcfde7f7"
      },
      "outputs": [
        {
          "name": "stdout",
          "output_type": "stream",
          "text": [
            "dataset type: <class 'torchvision.datasets.mnist.MNIST'>\n",
            "dataset size: 60000\n",
            "X data: torch.Size([1, 28, 28])\n",
            "y data: 5\n"
          ]
        }
      ],
      "source": [
        "print(\"dataset type: {}\".format(type(train_set)))\n",
        "print(\"dataset size: {}\".format(len(train_set)))\n",
        "print(\"X data: {}\".format(train_set[0][0].size()))\n",
        "print(\"y data: {}\".format(train_set[0][1]))"
      ]
    },
    {
      "cell_type": "markdown",
      "metadata": {
        "id": "piAf25dxyZCx"
      },
      "source": [
        "### Display the first 5 data of MNIST dataset."
      ]
    },
    {
      "cell_type": "code",
      "execution_count": 4,
      "metadata": {
        "id": "Jsa2MAEhyZCx"
      },
      "outputs": [
        {
          "data": {
            "image/png": "[encoded data removed]",
            "text/plain": [
              "<Figure size 640x480 with 5 Axes>"
            ]
          },
          "metadata": {},
          "output_type": "display_data"
        }
      ],
      "source": [
        "# ------------------------------------\n",
        "for num in range(0,5):\n",
        "    one_data = next(iter(train_loader))\n",
        "    plt.subplot(1,5,num+1)\n",
        "    plt.imshow(one_data[0][0][0,:,:])\n",
        "    plt.title(one_data[1][0].item())"
      ]
    },
    {
      "cell_type": "markdown",
      "metadata": {
        "id": "bo6-KX8UyZCy"
      },
      "source": [
        "## Network setting\n",
        "\n",
        "While image classification, is usually performed using Convolutional Neural Networks, we will use here a Multi-Layer-Perceptron (also named ```fully-connected```).\n",
        "For this, we will flatten (i.e. convert the iamge 2D matrix to a 1D vector) the input images.\n",
        "\n",
        "- The input images are of size 28*28 and are converted to vectors of size ```n_in```=784.\n",
        "\n",
        "- The two hidden layers have````n_h1````=500 and ```n_h2```=256 unit/neurons each and ```Relu```activations.\n",
        "\n",
        "- The output are the ```n_out```=10 classes (the 10 digits to be recognized).\n",
        "\n",
        "Since we deal with a muti-class problem (10 classes), the output activations is therefore a ```softmax```.\n",
        "\n",
        "Note that since the ```softmax```output will be given to a ```cross-entropy```, the ```log```et the latter can be directly added to the ```softmax```. This leads to the pytorch function ```F.log_softmax```.\n"
      ]
    },
    {
      "cell_type": "code",
      "execution_count": 5,
      "metadata": {
        "id": "H0uIIQb9yZCy"
      },
      "outputs": [],
      "source": [
        "class Net(nn.Module):\n",
        "    def __init__(self):\n",
        "        n_in = 28*28\n",
        "        n_h1 = 500\n",
        "        n_h2 = 256\n",
        "        n_out = 10\n",
        "        super(Net, self).__init__()\n",
        "        # --- START CODE HERE\n",
        "        self.fc1 = nn.Linear(n_in, n_h1)\n",
        "        self.fc2 = nn.Linear(n_h1, n_h2)\n",
        "        self.fc3 = nn.Linear(n_h2, n_out)\n",
        "        # --- END CODE HERE\n",
        "    def forward(self, x):\n",
        "        # --- START CODE HERE\n",
        "        x = x.reshape(-1, 28*28)\n",
        "        x1 = self.fc1(x)\n",
        "        x2 = F.relu(x1)\n",
        "        x3 = self.fc2(x2)\n",
        "        x4 = F.relu(x3)\n",
        "        x = self.fc3(x4)\n",
        "        # --- END CODE HERE\n",
        "        return F.log_softmax(x, dim=1)"
      ]
    },
    {
      "cell_type": "markdown",
      "metadata": {
        "id": "x7qcgKFwyZCz"
      },
      "source": [
        "## Defining the train and test functions\n",
        "\n",
        "In the present lab, we distinguish between train and test data.\n",
        "We therefore write\n",
        "- a train function (to learn the network parameters on the train data),\n",
        "- a test function (to evaluate the network's performances on the test data).\n",
        "\n",
        "The ```train``` and ```test```function will perform the computation for a given ```epoch```.\n",
        "The functions therefore only need to ```loop over``` the mini-batches.\n",
        "This is now easy since we defined our ```Dataloader```for train and test.\n",
        "\n",
        "For the train function, for each mini-batch, we  \n",
        "- compute the forward pass by passing the data to the model: haty = model(x)\n",
        "- compute the the loss (the criterion)\n",
        "- putting at zero the gradients of all the parameters of the network (this is important since, by default, pytorch accumulate the gradients over time)\n",
        "- computing the backpropagation (using as before .backward())\n",
        "- performing one step of optimization (using .step())\n",
        "\n",
        "For the train function, we set the model to train mode (```model.train()```). This allows to set some specific behaviours for training (such as activate the dropout).\n",
        "\n",
        "For the test function, we set the model to train mode (```model.eval()```). This allows to set some specific behaviours for training (such as removing the dropout).\n",
        "\n",
        "\n",
        "Since we are dealing with a multi-class problem (10 classes), we will minimize as loss the ```cross-entropy``` (named negative-log-likelihood ```nll_loss```in pytorch).\n",
        "Since ```nll_loss```does not contains the ```log``` we have added it directly to the softmax by using the ```log_softmax```as output activation of our network.\n",
        "\n",
        "Note that we could use the loss from the nn package (```torch.nn.NLLLoss```) it is then a class which needs to be first instanciated.\n",
        "We can also use the same but as a function (```F.nll_loss()```) which can be used directly without instanciating the class."
      ]
    },
    {
      "cell_type": "code",
      "execution_count": 6,
      "metadata": {
        "id": "3dGuPt96yZCz"
      },
      "outputs": [],
      "source": [
        "def train(model, train_loader, optimizer, epoch):\n",
        "    model.train()\n",
        "    for batch_idx, (data, target) in enumerate(train_loader):\n",
        "        # --- START CODE HERE\n",
        "        optimizer.zero_grad()\n",
        "        haty = model(data)\n",
        "        loss = F.nll_loss(haty, target)\n",
        "        loss.backward()\n",
        "        optimizer.step()\n",
        "        # --- END CODE HERE\n",
        "\n",
        "        if batch_idx % 100 == 0:\n",
        "            print('epoch {}, loss {}'.format(epoch, loss.item()))"
      ]
    },
    {
      "cell_type": "code",
      "execution_count": 7,
      "metadata": {
        "id": "zI8QtzV2yZC0"
      },
      "outputs": [],
      "source": [
        "def test(model, test_loader):\n",
        "    model.eval()\n",
        "    test_loss = 0\n",
        "    correct = 0\n",
        "    with torch.no_grad():\n",
        "        for data, target in test_loader:\n",
        "            # --- START CODE HERE\n",
        "            haty = model(data)\n",
        "            test_loss += F.nll_loss(haty, target, reduction='sum').item()\n",
        "            pred = haty.argmax(dim=1)\n",
        "            correct += pred.eq(target).sum().item()\n",
        "            # --- STOP CODE HERE\n",
        "\n",
        "    test_loss /= len(test_loader.dataset)\n",
        "    correct /= len(test_loader.dataset)\n",
        "    print('\\nTest set: Average loss: {}, Accuracy: {}\\n'.format(test_loss, correct))"
      ]
    },
    {
      "cell_type": "markdown",
      "metadata": {
        "id": "9MXQIbcJyZC0"
      },
      "source": [
        "## Looping over epochs\n",
        "\n",
        "\n",
        "We finally define, how we will optimize our parameters by defining an optimizer.\n",
        "We will use here a very simple one: the SGD (```optim.SGD```) with a learning rate of 0.01.\n",
        "\n",
        "At each iteration, we then call the train and the test function."
      ]
    },
    {
      "cell_type": "code",
      "execution_count": 8,
      "metadata": {
        "id": "ofYcX05ZyZC0"
      },
      "outputs": [
        {
          "name": "stdout",
          "output_type": "stream",
          "text": [
            "epoch 1, loss 2.322556972503662\n",
            "epoch 1, loss 0.9180874228477478\n",
            "epoch 1, loss 0.6152142286300659\n",
            "epoch 1, loss 0.6748709678649902\n",
            "epoch 1, loss 0.47513747215270996\n",
            "epoch 1, loss 0.37451693415641785\n",
            "epoch 1, loss 0.26349371671676636\n",
            "epoch 1, loss 0.10202643275260925\n",
            "epoch 1, loss 0.13596601784229279\n",
            "epoch 1, loss 0.25224271416664124\n",
            "epoch 1, loss 0.18405689299106598\n",
            "epoch 1, loss 0.21867425739765167\n",
            "epoch 1, loss 0.16545338928699493\n",
            "epoch 1, loss 0.08067068457603455\n",
            "epoch 1, loss 0.23762080073356628\n",
            "epoch 1, loss 0.22659459710121155\n",
            "epoch 1, loss 0.1256677508354187\n",
            "epoch 1, loss 0.061985213309526443\n",
            "epoch 1, loss 0.22831790149211884\n",
            "\n",
            "Test set: Average loss: 0.15103149267733096, Accuracy: 0.9498\n",
            "\n",
            "epoch 2, loss 0.03451376035809517\n",
            "epoch 2, loss 0.06799177825450897\n",
            "epoch 2, loss 0.030335353687405586\n",
            "epoch 2, loss 0.14817191660404205\n",
            "epoch 2, loss 0.2984258234500885\n",
            "epoch 2, loss 0.341077983379364\n",
            "epoch 2, loss 0.0833582803606987\n",
            "epoch 2, loss 0.021543750539422035\n",
            "epoch 2, loss 0.06624843925237656\n",
            "epoch 2, loss 0.06725600361824036\n",
            "epoch 2, loss 0.07347379624843597\n",
            "epoch 2, loss 0.08259637653827667\n",
            "epoch 2, loss 0.0773482471704483\n",
            "epoch 2, loss 0.2561070919036865\n",
            "epoch 2, loss 0.03664890676736832\n",
            "epoch 2, loss 0.17410025000572205\n",
            "epoch 2, loss 0.033503130078315735\n",
            "epoch 2, loss 0.138211190700531\n",
            "epoch 2, loss 0.051392942667007446\n",
            "\n",
            "Test set: Average loss: 0.10234603897631168, Accuracy: 0.9686\n",
            "\n",
            "epoch 3, loss 0.011336997151374817\n",
            "epoch 3, loss 0.08941628038883209\n",
            "epoch 3, loss 0.05644607916474342\n",
            "epoch 3, loss 0.014939378947019577\n",
            "epoch 3, loss 0.018155859783291817\n",
            "epoch 3, loss 0.046783752739429474\n",
            "epoch 3, loss 0.026767553761601448\n",
            "epoch 3, loss 0.07562071830034256\n",
            "epoch 3, loss 0.05888509750366211\n",
            "epoch 3, loss 0.24705766141414642\n",
            "epoch 3, loss 0.0682186707854271\n",
            "epoch 3, loss 0.100269615650177\n",
            "epoch 3, loss 0.06523692607879639\n",
            "epoch 3, loss 0.030700890347361565\n",
            "epoch 3, loss 0.020107069984078407\n",
            "epoch 3, loss 0.009721048176288605\n",
            "epoch 3, loss 0.01937325857579708\n",
            "epoch 3, loss 0.04523086175322533\n",
            "epoch 3, loss 0.2124308943748474\n",
            "\n",
            "Test set: Average loss: 0.07504446320943535, Accuracy: 0.977\n",
            "\n",
            "epoch 4, loss 0.015675732865929604\n",
            "epoch 4, loss 0.06162215769290924\n",
            "epoch 4, loss 0.29879269003868103\n",
            "epoch 4, loss 0.012056631036102772\n",
            "epoch 4, loss 0.006938614882528782\n",
            "epoch 4, loss 0.05582607537508011\n",
            "epoch 4, loss 0.017819037660956383\n",
            "epoch 4, loss 0.01751863956451416\n",
            "epoch 4, loss 0.14730533957481384\n",
            "epoch 4, loss 0.013677242211997509\n",
            "epoch 4, loss 0.04713981971144676\n",
            "epoch 4, loss 0.09027224034070969\n",
            "epoch 4, loss 0.09809378534555435\n",
            "epoch 4, loss 0.009803105145692825\n",
            "epoch 4, loss 0.05648374184966087\n",
            "epoch 4, loss 0.03527478128671646\n",
            "epoch 4, loss 0.047117073088884354\n",
            "epoch 4, loss 0.016222435981035233\n",
            "epoch 4, loss 0.0068820687010884285\n",
            "\n",
            "Test set: Average loss: 0.06938340404629707, Accuracy: 0.9787\n",
            "\n",
            "epoch 5, loss 0.006247991696000099\n",
            "epoch 5, loss 0.004582585766911507\n",
            "epoch 5, loss 0.04687472805380821\n",
            "epoch 5, loss 0.015581067651510239\n",
            "epoch 5, loss 0.005701764486730099\n",
            "epoch 5, loss 0.004081405233591795\n",
            "epoch 5, loss 0.05183893069624901\n",
            "epoch 5, loss 0.051976073533296585\n",
            "epoch 5, loss 0.008981981314718723\n",
            "epoch 5, loss 0.001053509651683271\n",
            "epoch 5, loss 0.04168286174535751\n",
            "epoch 5, loss 0.059127163141965866\n",
            "epoch 5, loss 0.04616454616189003\n",
            "epoch 5, loss 0.1648838073015213\n",
            "epoch 5, loss 0.12500275671482086\n",
            "epoch 5, loss 0.06352268159389496\n",
            "epoch 5, loss 0.053257301449775696\n",
            "epoch 5, loss 0.07749152183532715\n",
            "epoch 5, loss 0.14665602147579193\n",
            "\n",
            "Test set: Average loss: 0.06764373201895506, Accuracy: 0.9792\n",
            "\n",
            "epoch 6, loss 0.009456739760935307\n",
            "epoch 6, loss 0.009841527789831161\n",
            "epoch 6, loss 0.007248551584780216\n",
            "epoch 6, loss 0.015344644896686077\n",
            "epoch 6, loss 0.06810148060321808\n",
            "epoch 6, loss 0.006938125938177109\n",
            "epoch 6, loss 0.007789787370711565\n",
            "epoch 6, loss 0.06681789457798004\n",
            "epoch 6, loss 0.01643986999988556\n",
            "epoch 6, loss 0.02624799683690071\n",
            "epoch 6, loss 0.05487823486328125\n",
            "epoch 6, loss 0.0010478987824171782\n",
            "epoch 6, loss 0.031603533774614334\n",
            "epoch 6, loss 0.007471414748579264\n",
            "epoch 6, loss 0.0019312759395688772\n",
            "epoch 6, loss 0.009189022704958916\n",
            "epoch 6, loss 0.0024226652458310127\n",
            "epoch 6, loss 0.08850426971912384\n",
            "epoch 6, loss 0.02764410339295864\n",
            "\n",
            "Test set: Average loss: 0.06805581638524309, Accuracy: 0.9783\n",
            "\n",
            "epoch 7, loss 0.02718055061995983\n",
            "epoch 7, loss 0.005300562828779221\n",
            "epoch 7, loss 0.006500844843685627\n",
            "epoch 7, loss 0.005290938541293144\n",
            "epoch 7, loss 0.015523966401815414\n",
            "epoch 7, loss 0.0013920016353949904\n",
            "epoch 7, loss 0.024520117789506912\n",
            "epoch 7, loss 0.07326081395149231\n",
            "epoch 7, loss 0.0036829004529863596\n",
            "epoch 7, loss 0.016741586849093437\n",
            "epoch 7, loss 0.026650121435523033\n",
            "epoch 7, loss 0.007479214109480381\n",
            "epoch 7, loss 0.0030434427317231894\n",
            "epoch 7, loss 0.022618450224399567\n",
            "epoch 7, loss 0.006527647841721773\n",
            "epoch 7, loss 0.0009276176569983363\n",
            "epoch 7, loss 0.03166443854570389\n",
            "epoch 7, loss 0.02535836026072502\n",
            "epoch 7, loss 0.03905925154685974\n",
            "\n",
            "Test set: Average loss: 0.0620597898168955, Accuracy: 0.9813\n",
            "\n",
            "epoch 8, loss 0.06144484132528305\n",
            "epoch 8, loss 0.005723851267248392\n",
            "epoch 8, loss 0.007361659314483404\n",
            "epoch 8, loss 0.0033555866684764624\n",
            "epoch 8, loss 0.14729730784893036\n",
            "epoch 8, loss 0.023158159106969833\n",
            "epoch 8, loss 0.0098641412332654\n",
            "epoch 8, loss 0.0011276003206148744\n",
            "epoch 8, loss 0.006558558437973261\n",
            "epoch 8, loss 0.007746241521090269\n",
            "epoch 8, loss 0.04714192822575569\n",
            "epoch 8, loss 0.0023017823696136475\n",
            "epoch 8, loss 0.026143763214349747\n",
            "epoch 8, loss 0.0617859922349453\n",
            "epoch 8, loss 0.00286697456613183\n",
            "epoch 8, loss 0.0003551259287633002\n",
            "epoch 8, loss 0.003392247948795557\n",
            "epoch 8, loss 0.002775077475234866\n",
            "epoch 8, loss 0.01184558030217886\n",
            "\n",
            "Test set: Average loss: 0.06544601290365681, Accuracy: 0.9797\n",
            "\n",
            "epoch 9, loss 0.0436747707426548\n",
            "epoch 9, loss 0.003918104339390993\n",
            "epoch 9, loss 0.003413898404687643\n",
            "epoch 9, loss 0.0010018936591222882\n",
            "epoch 9, loss 0.05156955122947693\n",
            "epoch 9, loss 0.0017770219128578901\n",
            "epoch 9, loss 0.0020544903818517923\n",
            "epoch 9, loss 0.00096606818260625\n",
            "epoch 9, loss 0.006995018105953932\n",
            "epoch 9, loss 0.0004974736366420984\n",
            "epoch 9, loss 0.0008700394537299871\n",
            "epoch 9, loss 0.0011177625274285674\n",
            "epoch 9, loss 0.0030628270469605923\n",
            "epoch 9, loss 0.012208385393023491\n",
            "epoch 9, loss 0.020409833639860153\n",
            "epoch 9, loss 0.002699472475796938\n",
            "epoch 9, loss 0.0027818195521831512\n",
            "epoch 9, loss 0.003770824521780014\n",
            "epoch 9, loss 0.013898695819079876\n",
            "\n",
            "Test set: Average loss: 0.0624653193062637, Accuracy: 0.9824\n",
            "\n",
            "epoch 10, loss 0.0019277413375675678\n",
            "epoch 10, loss 0.0027833757922053337\n",
            "epoch 10, loss 0.00031121779466047883\n",
            "epoch 10, loss 0.0021578394807875156\n",
            "epoch 10, loss 0.003033480839803815\n",
            "epoch 10, loss 0.010321035049855709\n",
            "epoch 10, loss 0.003965369425714016\n",
            "epoch 10, loss 0.000482487230328843\n",
            "epoch 10, loss 0.002531093079596758\n",
            "epoch 10, loss 0.001321414252743125\n",
            "epoch 10, loss 0.002417386509478092\n",
            "epoch 10, loss 0.00030083191813901067\n",
            "epoch 10, loss 0.0025718347169458866\n",
            "epoch 10, loss 0.003374887630343437\n",
            "epoch 10, loss 0.004299728665500879\n",
            "epoch 10, loss 0.08157972246408463\n",
            "epoch 10, loss 0.0024139326997101307\n",
            "epoch 10, loss 0.039394475519657135\n",
            "epoch 10, loss 0.0003360918490216136\n",
            "\n",
            "Test set: Average loss: 0.060741412902460434, Accuracy: 0.9816\n",
            "\n"
          ]
        }
      ],
      "source": [
        "model = Net()\n",
        "optimizer = optim.SGD(model.parameters(), lr=0.01, momentum=0.9)\n",
        "nb_epoch = 10\n",
        "for epoch in range(1, nb_epoch + 1):\n",
        "        # --- START CODE HERE\n",
        "        train(model, train_loader, optimizer, epoch)\n",
        "        test(model, test_loader)\n",
        "        # --- END CODE HERE"
      ]
    },
    {
      "cell_type": "code",
      "execution_count": null,
      "metadata": {
        "id": "Rmga0J_oyZC1"
      },
      "outputs": [],
      "source": []
    }
  ],
  "metadata": {
    "colab": {
      "provenance": []
    },
    "kernelspec": {
      "display_name": "Python 3",
      "language": "python",
      "name": "python3"
    },
    "language_info": {
      "codemirror_mode": {
        "name": "ipython",
        "version": 3
      },
      "file_extension": ".py",
      "mimetype": "text/x-python",
      "name": "python",
      "nbconvert_exporter": "python",
      "pygments_lexer": "ipython3",
      "version": "3.10.6"
    },
    "toc": {
      "base_numbering": 1,
      "nav_menu": {},
      "number_sections": true,
      "sideBar": true,
      "skip_h1_title": false,
      "title_cell": "Table of Contents",
      "title_sidebar": "Contents",
      "toc_cell": false,
      "toc_position": {
        "height": "calc(100% - 180px)",
        "left": "10px",
        "top": "150px",
        "width": "165px"
      },
      "toc_section_display": true,
      "toc_window_display": false
    }
  },
  "nbformat": 4,
  "nbformat_minor": 0
}
