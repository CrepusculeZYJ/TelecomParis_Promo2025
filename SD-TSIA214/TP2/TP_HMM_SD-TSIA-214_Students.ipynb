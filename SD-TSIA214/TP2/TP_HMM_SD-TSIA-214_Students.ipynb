{
 "cells": [
  {
   "cell_type": "markdown",
   "metadata": {},
   "source": [
    "# Text segmentation using Hidden Markov Models"
   ]
  },
  {
   "cell_type": "markdown",
   "metadata": {},
   "source": [
    "# Q1"
   ]
  },
  {
   "cell_type": "markdown",
   "metadata": {},
   "source": [
    "Knowing that each email begins with a header, this means the probability of starting in state 1 is $1$, and the probability of starting in state 2 is $0$.\n",
    "\n",
    "Therefore, the initial probability vector $\\pi$ is:\n",
    "\\begin{equation*}\n",
    "    \\pi = \n",
    "    \\begin{bmatrix}\n",
    "        1\\\\\n",
    "        0\n",
    "    \\end{bmatrix}\n",
    "\\end{equation*}\n"
   ]
  },
  {
   "cell_type": "markdown",
   "metadata": {},
   "source": [
    "# Q2"
   ]
  },
  {
   "cell_type": "markdown",
   "metadata": {},
   "source": [
    "The probability of moving from state 1 to state 2 is $A(1,2)=0.000781921964187974$.\n",
    "\n",
    "The probability of staying in state 2 is $A(2,2)=1$.\n",
    "\n",
    "The probability of remaining in state 2 is the higher probability compared to the probability of moving from state 1 to state 2. This is logical considering the structure of an email: once you finish the header and start the body, you do not go back to the header. Hence, there is a 100% chance of staying in the body (state 2) once it is reached, which is reflected by the transition probability of 1. On the other hand, the probability of moving from the header to the body is very high but not absolute, allowing for multiple lines in the header before the transition to the body occurs. The small value of $0.000781921964187974$ indicates that while the transition from the header to the body does occur, it is very rare or happens after a large number of observations within the header, reflecting the possibility of a long header section."
   ]
  },
  {
   "cell_type": "markdown",
   "metadata": {},
   "source": [
    "# Q3"
   ]
  },
  {
   "cell_type": "markdown",
   "metadata": {},
   "source": [
    "$B \\in \\mathbb{R}^{2\\times N}$"
   ]
  },
  {
   "cell_type": "code",
   "execution_count": 132,
   "metadata": {},
   "outputs": [],
   "source": [
    "import os\n",
    "import glob\n",
    "import numpy as np"
   ]
  },
  {
   "cell_type": "code",
   "execution_count": 133,
   "metadata": {},
   "outputs": [],
   "source": [
    "ROOT = os.path.abspath('.')\n",
    "\n",
    "PERL_DIR = os.path.join(ROOT,'PerlScriptAndModel')\n",
    "RES_DIR = os.path.join(ROOT,'res')"
   ]
  },
  {
   "cell_type": "markdown",
   "metadata": {},
   "source": [
    "### Coding/Decoding Mails"
   ]
  },
  {
   "cell_type": "code",
   "execution_count": 134,
   "metadata": {},
   "outputs": [],
   "source": [
    "DATA_DIR = os.path.join(ROOT,'dat')\n",
    "\n",
    "# Iterate through files and load the text \n",
    "def files_iter(data_dir, with_name=False):\n",
    "    files = glob.glob('{}/*.dat'.format((data_dir)))\n",
    "    if with_name:\n",
    "        for f in files:\n",
    "            # Get the filename \n",
    "            name = f.split('\\\\')[-1].split('.')[0]\n",
    "            # Return filename and associated text\n",
    "            yield name, np.loadtxt(f, dtype=int)\n",
    "    else:\n",
    "        for f in files :\n",
    "            yield np.loadtxt(f, dtype=int)"
   ]
  },
  {
   "cell_type": "code",
   "execution_count": 135,
   "metadata": {},
   "outputs": [],
   "source": [
    "# And we get a generator that will allow us to iterate through the mails\n",
    "mail_iter = files_iter(DATA_DIR, with_name=True)"
   ]
  },
  {
   "cell_type": "markdown",
   "metadata": {},
   "source": [
    "### Distribution files"
   ]
  },
  {
   "cell_type": "code",
   "execution_count": 136,
   "metadata": {},
   "outputs": [],
   "source": [
    "PERL_DIR = os.path.join(ROOT,'PerlScriptAndModel')\n",
    "\n",
    "# Writing a function to get the probability data\n",
    "def get_emission_prob(perl_dir):\n",
    "    return np.loadtxt(os.path.join(perl_dir, 'P.text'), dtype=float)"
   ]
  },
  {
   "cell_type": "code",
   "execution_count": 137,
   "metadata": {},
   "outputs": [],
   "source": [
    "# Inputs to the Viterbi function\n",
    "trans = np.array([[0.999218078035812, 0.000781921964187974], [0, 1]])\n",
    "emission_prob = get_emission_prob(PERL_DIR)\n",
    "states = list(range(trans.shape[0]))\n",
    "start_prob = np.array([1, 0])"
   ]
  },
  {
   "cell_type": "markdown",
   "metadata": {},
   "source": [
    "### To implement:"
   ]
  },
  {
   "cell_type": "code",
   "execution_count": 138,
   "metadata": {},
   "outputs": [],
   "source": [
    "# Viterbi function\n",
    "def viterbi(obs, states, start_prob, trans, emission_prob):\n",
    "    \"\"\"\n",
    "        Viterbi Algorithm Implementation\n",
    "\n",
    "        Keyword arguments:\n",
    "            - obs: sequence of observation\n",
    "            - states:list of states\n",
    "            - start_prob:vector of the initial probabilities\n",
    "            - trans: transition matrix\n",
    "            - emission_prob: emission probability matrix\n",
    "        Returns:\n",
    "            - seq: sequence of state\n",
    "    \"\"\"\n",
    "\n",
    "    # Avoid underflow: use the logarithm !\n",
    "    # Avoid 0 in logarithm: use a small constant !\n",
    "    small = 1e-10\n",
    "    \n",
    "    start_prob = np.log(start_prob + small)\n",
    "    trans = np.log(trans + small)\n",
    "    emission_prob = np.log(emission_prob + small)\n",
    "    \n",
    "    T = len(obs)\n",
    "    N = len(states)\n",
    "    \n",
    "    # Initialisation\n",
    "    log_l = np.full((T, N), -np.inf)\n",
    "    bcktr = np.zeros((T, N), 'int')\n",
    "    \n",
    "    # Viterbi\n",
    "    \n",
    "    # Forward loop:\n",
    "    log_l[0,:]= start_prob + emission_prob[obs[0],:]\n",
    "    for t in range(1, T):\n",
    "        log_l[t, :] = np.max(log_l[t - 1, :] + trans.T + emission_prob[obs[t], :].T, 1)\n",
    "        bcktr[t, :] = np.argmax(log_l[t - 1, :] + trans.T + emission_prob[obs[t], :], 1)\n",
    "    # Backward loop\n",
    "    path = np.zeros(T, 'int')\n",
    "    path[-1] = np.argmax(log_l[-1, :])\n",
    "    for t in range(T - 2, -1, -1):\n",
    "        path[t] = bcktr[t, path[t + 1]]\n",
    "\n",
    "    return path"
   ]
  },
  {
   "cell_type": "code",
   "execution_count": 139,
   "metadata": {},
   "outputs": [],
   "source": [
    "RES_DIR = os.path.join(ROOT,'res')\n",
    "\n",
    "# Creating a directory to put the result of the viterbi function\n",
    "if not os.path.exists(RES_DIR):\n",
    "    os.mkdir(RES_DIR)\n",
    "    \n",
    "# Function that will write a viterbi path for a mail in a dedicated result file\n",
    "def create_viterbi_path_file(mail_name, viterbi_path):\n",
    "    with open('{}/{}_path.txt'.format(RES_DIR, mail_name), 'w') as f: \n",
    "        f.write(''.join([str(c) for c in viterbi_path]))   "
   ]
  },
  {
   "cell_type": "code",
   "execution_count": 140,
   "metadata": {},
   "outputs": [
    {
     "name": "stdout",
     "output_type": "stream",
     "text": [
      "mail1 [1 1 1 ... 2 2 2]\n",
      "mail10 [1 1 1 ... 2 2 2]\n",
      "mail11 [1 1 1 ... 2 2 2]\n",
      "mail12 [1 1 1 ... 2 2 2]\n",
      "mail13 [1 1 1 ... 2 2 2]\n",
      "mail14 [1 1 1 ... 2 2 2]\n",
      "mail15 [1 1 1 ... 2 2 2]\n",
      "mail16 [1 1 1 ... 2 2 2]\n",
      "mail17 [1 1 1 ... 2 2 2]\n",
      "mail18 [1 1 1 ... 2 2 2]\n",
      "mail19 [1 1 1 ... 2 2 2]\n",
      "mail2 [1 1 1 ... 2 2 2]\n",
      "mail20 [1 1 1 ... 2 2 2]\n",
      "mail21 [1 1 1 ... 2 2 2]\n",
      "mail22 [1 1 1 ... 2 2 2]\n",
      "mail23 [1 1 1 ... 2 2 2]\n",
      "mail24 [1 1 1 ... 2 2 2]\n",
      "mail25 [1 1 1 ... 2 2 2]\n",
      "mail26 [1 1 1 ... 2 2 2]\n",
      "mail27 [1 1 1 ... 2 2 2]\n",
      "mail28 [1 1 1 ... 2 2 2]\n",
      "mail29 [1 1 1 ... 2 2 2]\n",
      "mail3 [1 1 1 ... 2 2 2]\n",
      "mail30 [1 1 1 ... 2 2 2]\n",
      "mail4 [1 1 1 ... 2 2 2]\n",
      "mail5 [1 1 1 ... 2 2 2]\n",
      "mail6 [1 1 1 ... 2 2 2]\n",
      "mail7 [1 1 1 ... 2 2 2]\n",
      "mail8 [1 1 1 ... 2 2 2]\n",
      "mail9 [1 1 1 ... 2 2 2]\n"
     ]
    }
   ],
   "source": [
    "# Using our generator, we get the mail names and data\n",
    "for name_file, data in mail_iter:\n",
    "    # Find out the viterbi path using viterbi\n",
    "    viterbi_path = viterbi(data, states, start_prob, trans, emission_prob)\n",
    "    # print(name_file, viterbi_path)\n",
    "    # Put it in the result file\n",
    "    create_viterbi_path_file(name_file, viterbi_path)"
   ]
  },
  {
   "cell_type": "markdown",
   "metadata": {},
   "source": [
    "### Visualizing segmentation"
   ]
  },
  {
   "cell_type": "code",
   "execution_count": 141,
   "metadata": {},
   "outputs": [],
   "source": [
    "import visualize_segmentation\n",
    "# Writing a function to go into the directory and execute the perl script \"segment.pl\" on the mail in the given path\n",
    "def exec_perl_script(mail, path):\n",
    "    res = !cd {PERL_DIR}; perl segment.pl {mail} {path}\n",
    "    return res\n",
    "\n",
    "# Writing a function getting the original mail, the result of viterbi, and applying the segmentation script\n",
    "# Then putting the result\n",
    "def segment_mail(mail_name, data_dir, output_dir):\n",
    "    # Get the full path of the mail\n",
    "    mail = os.path.join(data_dir, '{}.txt'.format(mail_name))\n",
    "    # Get the full path of the result\n",
    "    path = os.path.join(output_dir, '{}_path.txt'.format(mail_name))\n",
    "    # Execute the visualization script\n",
    "    formatted_mail = \n",
    "    visualize_segmentation(mail, path, segmented_filename)\n",
    "\n",
    "    # Get the results\n",
    "    formatted_mail_text = ...\n",
    "    # Go through the resulting text until the cutting line\n",
    "    ...\n",
    "    # If this was not the last line, return the text cut in to parts: header and body\n",
    "    ...\n",
    "    # If not, it's just a header\n",
    "    ..."
   ]
  },
  {
   "cell_type": "code",
   "execution_count": 142,
   "metadata": {},
   "outputs": [],
   "source": [
    "# Getting mails names\n",
    "...\n",
    "# Call the function and look at the result of segmentation\n",
    "..."
   ]
  }
 ],
 "metadata": {
  "kernelspec": {
   "display_name": "Python 3 (ipykernel)",
   "language": "python",
   "name": "python3"
  },
  "language_info": {
   "codemirror_mode": {
    "name": "ipython",
    "version": 3
   },
   "file_extension": ".py",
   "mimetype": "text/x-python",
   "name": "python",
   "nbconvert_exporter": "python",
   "pygments_lexer": "ipython3",
   "version": "3.10.7"
  }
 },
 "nbformat": 4,
 "nbformat_minor": 2
}
